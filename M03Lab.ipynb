{
 "cells": [
  {
   "cell_type": "code",
   "execution_count": 1,
   "id": "2fc762a9",
   "metadata": {},
   "outputs": [],
   "source": [
    "class Vehicle:\n",
    "    def __init__(self, vehichle_type):\n",
    "        self.vehicle_type = vehichle_type\n",
    "    \n",
    "class Automobile(Vehicle):\n",
    "    def __init__(self, year, make, model, doors, roof):\n",
    "        self.vehicle_type = \"car\"\n",
    "        self.year = year\n",
    "        self.make = make\n",
    "        self.model = model\n",
    "        self.doors = doors\n",
    "        self.roof = roof\n"
   ]
  },
  {
   "cell_type": "code",
   "execution_count": 2,
   "id": "408caa1d",
   "metadata": {},
   "outputs": [
    {
     "name": "stdout",
     "output_type": "stream",
     "text": [
      "Enter car's make:Toyota\n",
      "Enter car's model:Corolla\n",
      "Enter car's year:2022\n",
      "Enter the numebr of doors car has (2 or 4):4\n",
      "Enter car's type of roof (solid or sun roof):sun roof\n",
      "New Vehicle added. Details submitted: \n",
      "Vehicle type: car\n",
      "Year: 2022\n",
      "Make: Toyota\n",
      "Model: Corolla\n",
      "Number of doors: 4\n",
      "Type of roof: 4\n"
     ]
    }
   ],
   "source": [
    "new_make = input(\"Enter car's make: \")\n",
    "new_model = input(\"Enter car's model: \")\n",
    "new_year = input(\"Enter car's year: \")\n",
    "new_doors = input(\"Enter the numebr of doors car has (2 or 4): \")\n",
    "new_roof = input(\"Enter car's type of roof (solid or sun roof): \")\n",
    "\n",
    "new_car = Automobile(new_year, new_make, new_model, new_doors, new_roof)\n",
    "\n",
    "string = (\"New Vehicle added. Details submitted: \\n\" +\n",
    "  \"Vehicle type: \" + new_car.vehicle_type + \"\\n\" +\n",
    "  \"Year: \" + new_car.year + \"\\n\" +\n",
    "  \"Make: \" + new_car.make + \"\\n\" +\n",
    "  \"Model: \" + new_car.model + \"\\n\" +\n",
    "  \"Number of doors: \" + new_car.doors + \"\\n\" +\n",
    "  \"Type of roof: \" + new_car.doors)\n",
    "\n",
    "print(string)\n"
   ]
  },
  {
   "cell_type": "code",
   "execution_count": null,
   "id": "c89accfe",
   "metadata": {},
   "outputs": [],
   "source": []
  }
 ],
 "metadata": {
  "kernelspec": {
   "display_name": "Python 3 (ipykernel)",
   "language": "python",
   "name": "python3"
  },
  "language_info": {
   "codemirror_mode": {
    "name": "ipython",
    "version": 3
   },
   "file_extension": ".py",
   "mimetype": "text/x-python",
   "name": "python",
   "nbconvert_exporter": "python",
   "pygments_lexer": "ipython3",
   "version": "3.9.13"
  }
 },
 "nbformat": 4,
 "nbformat_minor": 5
}
